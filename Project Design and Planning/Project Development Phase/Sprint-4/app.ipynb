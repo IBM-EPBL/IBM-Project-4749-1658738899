{
 "cells": [
  {
   "cell_type": "code",
   "execution_count": null,
   "id": "a6cab6da-cf7b-4bab-aa8b-eccddfafc741",
   "metadata": {},
   "outputs": [],
   "source": [
    "import pandas as pd\n",
    "import numpy as np\n",
    "from flask import Flask,render_template,Response,request\n",
    "import pickle\n",
    "from sklearn.preprocessing import LabelEncoder\n",
    "import pickle\n",
    "\n",
    "app = Flask(__name__)\n",
    "filename = 'resale_model.sav'\n",
    "model_rand = pickle.load(open(filename,'rb'))\n",
    "\n",
    "@app.route('/')\n",
    "def index():\n",
    "\treturn render_template('resaleintro.html')\n",
    "\n",
    "@app.route('/predict')\n",
    "def predict():\n",
    "\treturn render_template('resalepredict.html')\n",
    "@app.route('/y_predict',methods=['GET','POST'])\n",
    "def y_predict():\n",
    "\tregyear = int(request.form['regyear'])\n",
    "\tpowerps = float(request.form['powerps'])\n",
    "\tkms = float(request.form['kms'])\n",
    "\tregmonth = int(request.form.get('regmonth'))\n",
    "\tgearbox = request.form['gearbox']\n",
    "\tdamage = request.form['dam']\n",
    "\tmodel  = request.form.get('model_type')\n",
    "\tbrand = request.form.get('brand')\n",
    "\tfuelType = request.form.get('fuel')\n",
    "\tvehicletype= request.form.get('vehicletype')\n",
    "\tnew_row = {'yearOfRegistration':regyear,'powerPS':powerps,'kilometer':kms,'monthOfRegistration':regmonth,'gearbox':gearbox,'notRepairedDamage':damage,'model':model,'brand':brand,'fuelType':fuelType,'vehicleType':vehicletype}\n",
    "\n",
    "\tprint(new_row)\n",
    "\tnew_df = pd.DataFrame(columns=['vehicleType','yearOfRegistration','gearbox','powerPS','model','kilometer','monthOfRegistration','fuelType','brand','notRepairedDamage'])\n",
    "\tnew_df = new_df.append(new_row,ignore_index=True)\n",
    "\tlabels = ['gearbox','notRepairedDamage','model','brand','fuelType','vehicleType']\n",
    "\tmapper = {}\n",
    "\tfor i in labels:\n",
    "\t\tmapper[i] = LabelEncoder()\n",
    "\t\tmapper[i].classes_ = np.load(str('classes'+i+'.npy'),allow_pickle=True)\n",
    "\t\ttr = mapper[i].fit_transform(new_df[i])\n",
    "\t\tnew_df.loc[:,i+'_Labels'] = pd.Series(tr,index=new_df.index)\n",
    "\tlabeled = new_df[ ['yearOfRegistration','powerPS','kilometer','monthOfRegistration'] + [x+\"_Labels\" for x in labels]]\n",
    "\n",
    "\tX = labeled.values\n",
    "\tprint(X)\n",
    "\ty_prediction = model_rand.predict(X)\n",
    "\tprint(y_prediction)\n",
    "\treturn render_template('resalepredict.html',ypred=\"The resale value predicted is {:.2f}$\".format(y_prediction[0]))\n",
    "\n",
    "if __name__ == '__main__':\n",
    "\tapp.run(host='Localhost',debug=True,threaded=False)"
   ]
  }
 ],
 "metadata": {
  "kernelspec": {
   "display_name": "Python 3",
   "language": "python",
   "name": "python3"
  },
  "language_info": {
   "codemirror_mode": {
    "name": "ipython",
    "version": 3
   },
   "file_extension": ".py",
   "mimetype": "text/x-python",
   "name": "python",
   "nbconvert_exporter": "python",
   "pygments_lexer": "ipython3",
   "version": "3.8.8"
  }
 },
 "nbformat": 4,
 "nbformat_minor": 5
}
